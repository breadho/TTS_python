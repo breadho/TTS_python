{
 "cells": [
  {
   "cell_type": "markdown",
   "id": "1b60bfbb",
   "metadata": {},
   "source": [
    "# Automatic speech recognition(ASR) / STT\n",
    "## Whisper - OpenAI\n",
    "\n",
    "### Speech To Text package"
   ]
  },
  {
   "cell_type": "code",
   "execution_count": 1,
   "id": "7c83b00d",
   "metadata": {
    "scrolled": true
   },
   "outputs": [
    {
     "data": {
      "text/html": [
       "<details>\n",
       "<summary>Click to view session information</summary>\n",
       "<pre>\n",
       "-----\n",
       "session_info        1.0.0\n",
       "-----\n",
       "</pre>\n",
       "<details>\n",
       "<summary>Click to view modules imported as dependencies</summary>\n",
       "<pre>\n",
       "asttokens                   NA\n",
       "backcall                    0.2.0\n",
       "colorama                    0.4.4\n",
       "cython_runtime              NA\n",
       "dateutil                    2.8.2\n",
       "debugpy                     1.5.1\n",
       "decorator                   5.1.1\n",
       "executing                   0.8.3\n",
       "google                      NA\n",
       "importlib_metadata          NA\n",
       "ipykernel                   6.9.1\n",
       "ipython_genutils            0.2.0\n",
       "jedi                        0.18.1\n",
       "jupyter_server              1.13.5\n",
       "mpl_toolkits                NA\n",
       "nt                          NA\n",
       "ntsecuritycon               NA\n",
       "packaging                   21.3\n",
       "parso                       0.8.3\n",
       "pickleshare                 0.7.5\n",
       "pkg_resources               NA\n",
       "prompt_toolkit              3.0.20\n",
       "psutil                      5.8.0\n",
       "pure_eval                   0.2.2\n",
       "pydev_ipython               NA\n",
       "pydevconsole                NA\n",
       "pydevd                      2.6.0\n",
       "pydevd_concurrency_analyser NA\n",
       "pydevd_file_utils           NA\n",
       "pydevd_plugins              NA\n",
       "pydevd_tracing              NA\n",
       "pygments                    2.11.2\n",
       "pythoncom                   NA\n",
       "pywintypes                  NA\n",
       "setuptools                  60.10.0\n",
       "six                         1.16.0\n",
       "sphinxcontrib               NA\n",
       "stack_data                  0.2.0\n",
       "tornado                     6.1\n",
       "traitlets                   5.1.1\n",
       "wcwidth                     0.2.5\n",
       "win32api                    NA\n",
       "win32com                    NA\n",
       "win32security               NA\n",
       "zipp                        NA\n",
       "zmq                         22.3.0\n",
       "zope                        NA\n",
       "</pre>\n",
       "</details> <!-- seems like this ends pre, so might as well be explicit -->\n",
       "<pre>\n",
       "-----\n",
       "IPython             8.2.0\n",
       "jupyter_client      6.1.12\n",
       "jupyter_core        4.9.2\n",
       "jupyterlab          3.3.2\n",
       "notebook            6.4.8\n",
       "-----\n",
       "Python 3.9.12 (main, Apr  4 2022, 05:22:27) [MSC v.1916 64 bit (AMD64)]\n",
       "Windows-10-10.0.22000-SP0\n",
       "-----\n",
       "Session information updated at 2022-10-27 16:09\n",
       "</pre>\n",
       "</details>"
      ],
      "text/plain": [
       "<IPython.core.display.HTML object>"
      ]
     },
     "execution_count": 1,
     "metadata": {},
     "output_type": "execute_result"
    }
   ],
   "source": [
    "import session_info\n",
    "\n",
    "session_info.show()"
   ]
  },
  {
   "cell_type": "code",
   "execution_count": 2,
   "id": "afc382bf",
   "metadata": {},
   "outputs": [
    {
     "data": {
      "text/plain": [
       "['test_data1.mp3',\n",
       " 'test_data2.mp3',\n",
       " 'test_data3.mp3',\n",
       " 'test_data4.mp3',\n",
       " 'test_data5.mp3']"
      ]
     },
     "execution_count": 2,
     "metadata": {},
     "output_type": "execute_result"
    }
   ],
   "source": [
    "import os\n",
    "os.listdir(\"./data\")"
   ]
  },
  {
   "cell_type": "code",
   "execution_count": 3,
   "id": "2617c43c",
   "metadata": {},
   "outputs": [],
   "source": [
    "import whisper\n",
    "import numpy as np\n",
    "import ffmpeg\n",
    "import torch"
   ]
  },
  {
   "cell_type": "code",
   "execution_count": 4,
   "id": "5e97a6ac",
   "metadata": {},
   "outputs": [],
   "source": [
    "model = whisper.load_model(\"base\")"
   ]
  },
  {
   "cell_type": "markdown",
   "id": "e1d062f9",
   "metadata": {},
   "source": [
    "## Case 1. 단문\n",
    "\n",
    "* 원래 문장: 마음으로 일출을 기다렸다."
   ]
  },
  {
   "cell_type": "code",
   "execution_count": 8,
   "id": "17cdc923",
   "metadata": {},
   "outputs": [
    {
     "name": "stdout",
     "output_type": "stream",
     "text": [
      " 마음으로 일출을 기다렸다.\n"
     ]
    }
   ],
   "source": [
    "# case 1. 단문\n",
    "result1 = model.transcribe(\"./data/test_data1.mp3\", fp16 = False)\n",
    "print(result1[\"text\"])"
   ]
  },
  {
   "cell_type": "markdown",
   "id": "4cea93b5",
   "metadata": {},
   "source": [
    "## Case 2. 중간에 끊기는 문장\n",
    "\n",
    "* 원래 문장: 여행의 첫날을 주변을 한번 둘러보는 탐색의 날로 정한 우리는 해가 늦게 뜨는 이곳에 겨울의 특성 덕분에 충분한 수면을 취한 뒤잠에서 깨어날 수 있었다. 우리는 (--잠시 끊김--) 아침 식사를 배부르게 즐긴 뒤 /"
   ]
  },
  {
   "cell_type": "code",
   "execution_count": 9,
   "id": "51d95312",
   "metadata": {},
   "outputs": [
    {
     "name": "stdout",
     "output_type": "stream",
     "text": [
      " 여행에 첫날을 주변을 한번 둘러보는 탐색에 날로 중한 우리는 해가 늦게 들은 이곳의 겨울에 특성도 구네 충분하우스맨을 쉬어 안 뒤 잠에서 깨어날 수 있었다. 우리는 아침 식사를 배부르게 즐긴 뒤 Kelley Mod Infinite\n"
     ]
    }
   ],
   "source": [
    "# case 2. 중간에 끊기는 음원\n",
    "result2 = model.transcribe(\"./data/test_data2.mp3\", fp16 = False)\n",
    "print(result2[\"text\"])"
   ]
  },
  {
   "cell_type": "markdown",
   "id": "daa7733d",
   "metadata": {},
   "source": [
    "## Case 3.  효과음이 섞인 음원\n",
    "\n",
    "* 원래 문장: 우리는 가지고 있는 것 중에서도 가장 따뜻한 겨울 옷을 찾아 입었다. 따뜻한 방한 슈트에 털 부츠와 장갑 모자를 더하고 목도리를 두르는 것도 잊지 않았다. (스석이는 소리 삽입됨)"
   ]
  },
  {
   "cell_type": "raw",
   "id": "423034b1",
   "metadata": {},
   "source": [
    "# case 3. 효과음이 섞인 음원\n",
    "result3 = model.transcribe(\"./data/test_data3.mp3\", fp16 = False)\n",
    "print(result3[\"text\"])"
   ]
  },
  {
   "cell_type": "markdown",
   "id": "8e7fa6e5",
   "metadata": {},
   "source": [
    "## Case 4.  의문문이 들어간 음원\n",
    "\n",
    "* 원래 문장: 얼굴에는 콜드 크림을 발랐다. 온기가 빠져나가지 않도록 피부에 막을 씌워주어 저체온증에 빠지는 것으로부터 나를 보호해줄 것이다. 단단히 무장한 덕분이었을까? 나는 몸을 따뜻하게 유지한 채로 내 뺨에 닿는 북극의 차가운 공기를 즐기고 있다. "
   ]
  },
  {
   "cell_type": "code",
   "execution_count": 11,
   "id": "45aca55d",
   "metadata": {},
   "outputs": [
    {
     "name": "stdout",
     "output_type": "stream",
     "text": [
      " 얼굴에는 콜드 크림을 발랐다. 옮기가 빠져나가지 않도록 피부에 막을 씌워주어 저체운 중에 빠지는 것으로부터 나를 보호해줄 것이다. 단단히 무장한 높은이었을까? 나는 봉을 따뜻하게 유지한 채로 내 뼈에 닿는 복극의 차가운 공비를 즐기고 있다.\n"
     ]
    }
   ],
   "source": [
    "# case 4. 의문문이 들어간 음원\n",
    "result4 = model.transcribe(\"./data/test_data4.mp3\", fp16 = False)\n",
    "print(result4[\"text\"])"
   ]
  },
  {
   "cell_type": "code",
   "execution_count": 18,
   "id": "6f93f0c1",
   "metadata": {},
   "outputs": [
    {
     "name": "stdout",
     "output_type": "stream",
     "text": [
      "Detected language: ko\n",
      "얼굴에는 콜드 크림을 발랐다. 옮기가 빠져나가지 않도록 피부에 막을 씌워주어 저체운 중에 빠지는 것으로부터 나를 보호해줄 것이다. 단단히 무장한 높은이었을까? 나는 봉을 따뜻하게 유지한 채로 내 뼈에 닿는 복극의 차가운\n"
     ]
    }
   ],
   "source": [
    "# low level access\n",
    "\n",
    "# load audio and pad/trim it to fit 30 seconds\n",
    "audio = whisper.load_audio(\"./data/test_data4.mp3\")\n",
    "audio = whisper.pad_or_trim(audio)\n",
    "\n",
    "# make log-Mel spectrogram and move to the same device as the model\n",
    "mel = whisper.log_mel_spectrogram(audio).to(model.device)\n",
    "\n",
    "# detect the spoken language\n",
    "_, probs = model.detect_language(mel)\n",
    "print(f\"Detected language: {max(probs, key = probs.get)}\")\n",
    "\n",
    "# decode the audio\n",
    "options = whisper.DecodingOptions(fp16 = False)\n",
    "result_low_lv = whisper.decode(model, mel, options)\n",
    "\n",
    "# print the recognized text\n",
    "print(result_low_lv.text)"
   ]
  },
  {
   "cell_type": "markdown",
   "id": "0d74998b",
   "metadata": {},
   "source": [
    "## Case 5. 30초 이상의 음원\n",
    "\n",
    "* 원래 문장: 전날 저녁 라플란드에 도착한 우리는 극권의 북쪽에 위치한 작은 마을에서 첫 번째 밤을 보냈다. 벽난로와 고풍스러운 카펫 쿠션으로 꾸며진 안락한 나무 오두막이 우리의 숙소였다. 여행의 첫날을 주변을 한번 둘러보는 탐색의 날로 정한 우리는 해가 늦게 뜨는 이곳에 겨울의 특성 덕분에 충분한 수면을 취한 뒤 잠에서 깨어날 수 있었다. 우리는 아침 식사를 배부르게 즐긴 뒤 느긋한 마음으로 일출을 기다렸다. 우리는 가지고 있는 것 중에서도 가장 따뜻한 겨울옷을 찾아 입었다. 따뜻한 방한 슈트에 털부츠와 장갑 모자를 더하고 목도리를 두르는 것도 잊지 않았다. 신체 부위 중 차가운 곳은 공기가 닿는 얼굴이 유일하다. 얼굴에는 콜드 크림을 발랐다. 온기가 빠져나가지 않도록 피부에 막을 씌워주어 저체온증에 빠지는 것으로부터 나를 보호해줄 것이다. 단단히 무장한 덕분이었을까? 나는 몸을 따뜻하게 유지한 채로 내 뺨에 닿는 북극의 차가운 공기를 즐기고 있다. 이곳은 몇 년 전 리아가 여행을 왔던 장소이기도 하다. 당시의 경험을 통해 이 마을을 잘 알게 된 리아는 이 근처에 나에게 꼭 소개하고 싶은 카페가 있다고 말했다. 그 카페에 가기 위해 우리는 하이킹 지팡이를 들고 길을 나선다. 사람들의 발길이 닿아 어느새 눈길은 평평하게 다져진 상태이다. "
   ]
  },
  {
   "cell_type": "code",
   "execution_count": 20,
   "id": "4557ae4e",
   "metadata": {},
   "outputs": [
    {
     "name": "stdout",
     "output_type": "stream",
     "text": [
      " 전날 저녁 라플라인데 도착한 우리는 그건의 북쪽에 위치한 작은 마을에서 첫 번째 밤을 보냈다. 병날로와 고풍스러운 카페. 쿠션으로 꾸며진 알락한 나무 오동하게 우리의 숙소였다. 여행의 첫나를 주변을 한 번 둘러보는 탐색의 날로 중한 우리는 해가 늦게들은 이것의 겨울에 특성도 구네 충분한 수맨을 취한 뒤 잠에서 깨어날 수 있었다. 우리는 아침 식사를 배부르게 즐긴 뒤, 느그탄 마음으로 일출을 기다렸다. 우리는 가지고 있는 것 중에서도 가장 따뜻한 겨울 옷을 찾아 입었다. 따뜻한 방한 슈트에 털 부추와 장갑 모자를 더하고 목도리를 들은 것도 잊지 않았다. 신체 보의 중 차가운 곳은 공기가 나는 얼굴이 유일하다. 얼굴에는 콜드크림을 발랐다. 옮기가 빠져나가지 않도록 피부에 막을 씌워 주어 저체 온 중에 빠지는 것으로부터 나를 보호해 줄 것이다. 단단히 무장한 높은이었을까? 나는 봉을 따뜻하게 유지한 채로 내 뼈에 닿는 북극의 차가운 공기를 즐기고 있다. 이것은 몇 년 전 리아가 여행을 왔던 정소에기도 하다. 당시의 경험을 통해 이 마을을 잘 알게 된 리아는 이건 저의 나에게 꼭 소개하고 싶은 카페가 있다고 말했다. 그 카페의 가기 위에 우리는 하이킹 집 방위를 들고 길을 나선다. 쓰란들의 발길이다 어느새 눈길은 평평하게 다져진 상태다.\n"
     ]
    }
   ],
   "source": [
    "result5  = model.transcribe(\"./data/test_data5.mp3\", fp16 = False)\n",
    "print(result5[\"text\"])"
   ]
  },
  {
   "cell_type": "markdown",
   "id": "a323be38",
   "metadata": {},
   "source": [
    "전체 파일을 30초 단위의 sliding window를 통해 변환하므로 무리없이 잘 작동함\n",
    "\n",
    "Internally, the `transcribe()` method reads the entire file and processes the audio with a sliding 30-second window, performing autoregressive sequence-to-sequence predictions on each window."
   ]
  },
  {
   "cell_type": "markdown",
   "id": "f3d37968",
   "metadata": {},
   "source": [
    "## Compare vs speech_recognition"
   ]
  },
  {
   "cell_type": "code",
   "execution_count": 25,
   "id": "eba9b5c7",
   "metadata": {},
   "outputs": [
    {
     "data": {
      "text/plain": [
       "<_io.BufferedRandom name='./data/test_data4.wav'>"
      ]
     },
     "execution_count": 25,
     "metadata": {},
     "output_type": "execute_result"
    }
   ],
   "source": [
    "# convert from mp3 to wav\n",
    "\n",
    "from os import path\n",
    "from pydub import AudioSegment\n",
    "\n",
    "# files\n",
    "src = \"./data/test_data4.mp3\"\n",
    "dst = \"./data/test_data4.wav\"\n",
    "\n",
    "sound = AudioSegment.from_mp3(src)\n",
    "sound.export(dst, format = \"wav\")"
   ]
  },
  {
   "cell_type": "code",
   "execution_count": 22,
   "id": "7c268515",
   "metadata": {},
   "outputs": [
    {
     "data": {
      "text/plain": [
       "'3.8.1'"
      ]
     },
     "execution_count": 22,
     "metadata": {},
     "output_type": "execute_result"
    }
   ],
   "source": [
    "import speech_recognition as sr\n",
    "sr.__version__"
   ]
  },
  {
   "cell_type": "code",
   "execution_count": 23,
   "id": "d03b93ac",
   "metadata": {},
   "outputs": [],
   "source": [
    "r = sr.Recognizer()"
   ]
  },
  {
   "cell_type": "markdown",
   "id": "1889e967",
   "metadata": {},
   "source": [
    "Each Recognizer instance has seven methods for recognizing speech from an audio source using various APIs. These are:\n",
    "\n",
    "- **`recognize_bing()`**: Microsoft Bing Speech\n",
    "- **`recognize_google()`**: Google Web Speech API\n",
    "- **`recognize_google_cloud()`**: Google Cloud Speech - requires installation of the google-cloud-speech package\n",
    "- **`recognize_houndify()`**: Houndify by SoundHound\n",
    "- **`recognize_ibm()`**: IBM Speech to Text\n",
    "- **`recognize_sphinx()`**: CMU Sphinx - requires installing PocketSphinx\n",
    "- **`recognize_wit()`**: Wit.ai"
   ]
  },
  {
   "cell_type": "code",
   "execution_count": 27,
   "id": "e7ee2c31",
   "metadata": {},
   "outputs": [
    {
     "data": {
      "text/plain": [
       "'얼굴에는 콜드크림을 발랐다 1기가 빠져 나가지 않도록 피부에 막을 심어주어야 저체온증에 빠지는 것으로부터 나를 보호해 줄 것이다 단단히 무장한 덕분이었을까 나는 몸을 따뜻하게 유지한 채로 내 마음에 닿는 그게 차가운 공기를 즐기고 있다'"
      ]
     },
     "execution_count": 27,
     "metadata": {},
     "output_type": "execute_result"
    }
   ],
   "source": [
    "test = sr.AudioFile(\"./data/test_data4.wav\")\n",
    "with test as source:\n",
    "    result_sr = r.record(source)\n",
    "r.recognize_google(result_sr, language = 'ko-KR')"
   ]
  }
 ],
 "metadata": {
  "hide_input": false,
  "kernelspec": {
   "display_name": "Python 3 (ipykernel)",
   "language": "python",
   "name": "python3"
  },
  "language_info": {
   "codemirror_mode": {
    "name": "ipython",
    "version": 3
   },
   "file_extension": ".py",
   "mimetype": "text/x-python",
   "name": "python",
   "nbconvert_exporter": "python",
   "pygments_lexer": "ipython3",
   "version": "3.9.12"
  }
 },
 "nbformat": 4,
 "nbformat_minor": 5
}
